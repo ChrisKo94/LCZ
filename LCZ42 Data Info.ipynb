{
 "cells": [
  {
   "cell_type": "markdown",
   "metadata": {},
   "source": [
    "# LCZ42: Data Overview"
   ]
  },
  {
   "cell_type": "code",
   "execution_count": 1,
   "metadata": {},
   "outputs": [],
   "source": [
    "import h5py\n",
    "import numpy as np\n",
    "import matplotlib.pyplot as plt"
   ]
  },
  {
   "cell_type": "markdown",
   "metadata": {},
   "source": [
    "## Read in Training Data h5 file (Does not fit RAM in full!)"
   ]
  },
  {
   "cell_type": "code",
   "execution_count": 2,
   "metadata": {},
   "outputs": [],
   "source": [
    "data_train = h5py.File('D:/Data/LCZ42/training.h5','r')"
   ]
  },
  {
   "cell_type": "code",
   "execution_count": 3,
   "metadata": {},
   "outputs": [
    {
     "name": "stdout",
     "output_type": "stream",
     "text": [
      "<KeysViewHDF5 ['label', 'sen1', 'sen2']>\n"
     ]
    }
   ],
   "source": [
    "# Return Keys (Groups work like dictionaries)\n",
    "print(data_train.keys())"
   ]
  },
  {
   "cell_type": "code",
   "execution_count": null,
   "metadata": {},
   "outputs": [],
   "source": [
    "# Return shape (Datasets work like NumPy arrays)\n",
    "s1_train = np.array(data_train['sen1'])\n",
    "print(s1_train.shape)"
   ]
  },
  {
   "cell_type": "code",
   "execution_count": null,
   "metadata": {},
   "outputs": [],
   "source": [
    "s2_train = np.array(data_train['sen2'])\n",
    "print(s1_train.shape)"
   ]
  },
  {
   "cell_type": "markdown",
   "metadata": {},
   "source": [
    "## Read in Validation Data h5 file"
   ]
  },
  {
   "cell_type": "code",
   "execution_count": 2,
   "metadata": {},
   "outputs": [],
   "source": [
    "data_val = h5py.File('D:/Data/LCZ42/validation.h5','r')"
   ]
  },
  {
   "cell_type": "code",
   "execution_count": 3,
   "metadata": {},
   "outputs": [
    {
     "name": "stdout",
     "output_type": "stream",
     "text": [
      "<KeysViewHDF5 ['label', 'sen1', 'sen2']>\n"
     ]
    }
   ],
   "source": [
    "# Return Keys (Groups work like dictionaries)\n",
    "print(data_val.keys())"
   ]
  },
  {
   "cell_type": "code",
   "execution_count": 4,
   "metadata": {},
   "outputs": [
    {
     "name": "stdout",
     "output_type": "stream",
     "text": [
      "(24119, 32, 32, 8)\n"
     ]
    }
   ],
   "source": [
    "# Return shape (Datasets work like NumPy arrays)\n",
    "s1_val = np.array(data_val['sen1'])\n",
    "print(s1_val.shape)"
   ]
  },
  {
   "cell_type": "code",
   "execution_count": 6,
   "metadata": {},
   "outputs": [
    {
     "name": "stdout",
     "output_type": "stream",
     "text": [
      "(24119, 32, 32, 10)\n"
     ]
    }
   ],
   "source": [
    "s2_val = np.array(data_val['sen2'])\n",
    "print(s2_val.shape)"
   ]
  },
  {
   "cell_type": "markdown",
   "metadata": {},
   "source": [
    "## Tensor configuration\n",
    "- 1st component: No. of patches\n",
    "- 2nd & 3rd component: Pixel (32x32 patches, 10m spatial resolution)\n",
    "- 4th component: Scaled value of respective Band reflection\n",
    "\n",
    "### Sentinel 1:\n",
    "- 1st band: Real part of original VH complex signal\n",
    "- 2nd band: Imaginary part of original VH complex signal\n",
    "- 3rd band: Real part of original VV complex signal\n",
    "- 4th band: Imaginary part of original VV complex signal\n",
    "- 5th band: Intensity of lee filtered VH signal\n",
    "- 6th band: Intensity of lee filtered VV signal\n",
    "- 7th band: Real part of lee filtered PolSAR covariance matrix off-diagonal element\n",
    "- 8th band: Imaginary part of lee filtered PolSAR covariance matrix off-diagonal element\n",
    "\n",
    "### Senitnel 2:\n",
    "- 1st band: B2 (490nm)\n",
    "- 2nd band: B3 (560nm)\n",
    "- 3rd band: B4 (665nm)\n",
    "- 4th band: B5 (705nm, upsampled from 20m spectral resolution)\n",
    "- 5th band: B6 (740nm, upsampled from 20m spectral resolution)\n",
    "- 6th band: B7 (783nm, upsampled from 20m spectral resolution)\n",
    "- 7th band: B8 (842nm)\n",
    "- 8th band: B8A (865nm, upsampled from 20m spectral resolution)\n",
    "- 9th band: B11 SWIR (1610nm, upsampled from 20m spectral resolution) \n",
    "- 10th band: B12 SWIR (2190nm, upsampled from 20m spectral resolution)"
   ]
  },
  {
   "cell_type": "code",
   "execution_count": 20,
   "metadata": {},
   "outputs": [
    {
     "name": "stdout",
     "output_type": "stream",
     "text": [
      "(24119, 17)\n"
     ]
    }
   ],
   "source": [
    "lab_val = np.array(data_val['label'])\n",
    "print(lab_val.shape)"
   ]
  },
  {
   "cell_type": "markdown",
   "metadata": {},
   "source": [
    "## Visualization of first pair of images"
   ]
  },
  {
   "cell_type": "code",
   "execution_count": 21,
   "metadata": {},
   "outputs": [
    {
     "data": {
      "image/png": "[encoded data removed]",
      "text/plain": [
       "<Figure size 432x288 with 4 Axes>"
      ]
     },
     "metadata": {
      "needs_background": "light"
     },
     "output_type": "display_data"
    }
   ],
   "source": [
    "plt.subplot(121)\n",
    "plt.imshow(10*np.log10(s1_val[0,:,:,4]),cmap=plt.cm.get_cmap('gray'));\n",
    "plt.colorbar()\n",
    "plt.title('Sentinel-1')\n",
    "\n",
    "plt.subplot(122)\n",
    "plt.imshow(s2_val[0,:,:,1],cmap=plt.cm.get_cmap('gray'));\n",
    "plt.colorbar()\n",
    "plt.title('Sentinel-2')\n",
    "\n",
    "plt.show()\n"
   ]
  },
  {
   "cell_type": "code",
   "execution_count": 33,
   "metadata": {},
   "outputs": [
    {
     "data": {
      "text/plain": [
       "<matplotlib.image.AxesImage at 0x24a00724940>"
      ]
     },
     "execution_count": 33,
     "metadata": {},
     "output_type": "execute_result"
    },
    {
     "data": {
      "image/png": "[encoded data removed]",
      "text/plain": [
       "<Figure size 432x288 with 1 Axes>"
      ]
     },
     "metadata": {
      "needs_background": "light"
     },
     "output_type": "display_data"
    }
   ],
   "source": [
    "plt.imshow(s2_val[0,:,:,6],cmap='gray')"
   ]
  },
  {
   "cell_type": "code",
   "execution_count": 22,
   "metadata": {},
   "outputs": [
    {
     "data": {
      "text/plain": [
       "(array([[0., 0., 1., 0., 1., 1., 2., 2., 3., 0.],\n",
       "        [0., 0., 0., 1., 2., 2., 1., 4., 0., 0.],\n",
       "        [0., 0., 0., 1., 2., 1., 2., 3., 1., 0.],\n",
       "        [0., 0., 0., 1., 1., 2., 3., 1., 2., 0.],\n",
       "        [0., 0., 0., 1., 0., 4., 2., 3., 0., 0.],\n",
       "        [0., 0., 0., 1., 1., 2., 3., 3., 0., 0.],\n",
       "        [0., 0., 0., 0., 2., 3., 4., 1., 0., 0.],\n",
       "        [0., 0., 0., 0., 1., 5., 0., 3., 1., 0.],\n",
       "        [0., 0., 1., 0., 2., 1., 0., 4., 2., 0.],\n",
       "        [0., 0., 0., 0., 1., 3., 3., 2., 1., 0.],\n",
       "        [0., 0., 0., 0., 1., 5., 1., 3., 0., 0.],\n",
       "        [0., 0., 0., 0., 0., 2., 4., 2., 1., 1.],\n",
       "        [0., 0., 0., 1., 2., 2., 1., 1., 2., 1.],\n",
       "        [0., 0., 1., 0., 3., 2., 2., 1., 1., 0.],\n",
       "        [0., 0., 2., 2., 2., 1., 1., 2., 0., 0.],\n",
       "        [0., 0., 1., 0., 3., 3., 1., 2., 0., 0.],\n",
       "        [0., 1., 1., 0., 2., 4., 2., 0., 0., 0.],\n",
       "        [0., 0., 0., 4., 1., 3., 1., 1., 0., 0.],\n",
       "        [0., 1., 4., 3., 2., 0., 0., 0., 0., 0.],\n",
       "        [0., 1., 1., 6., 2., 0., 0., 0., 0., 0.],\n",
       "        [1., 0., 5., 2., 1., 0., 1., 0., 0., 0.],\n",
       "        [0., 1., 0., 3., 4., 2., 0., 0., 0., 0.],\n",
       "        [0., 0., 2., 1., 3., 4., 0., 0., 0., 0.],\n",
       "        [0., 0., 0., 6., 3., 1., 0., 0., 0., 0.],\n",
       "        [0., 1., 3., 1., 2., 1., 2., 0., 0., 0.],\n",
       "        [0., 1., 2., 4., 1., 0., 0., 2., 0., 0.],\n",
       "        [0., 1., 1., 2., 4., 1., 0., 0., 1., 0.],\n",
       "        [0., 0., 0., 3., 1., 4., 1., 0., 1., 0.],\n",
       "        [0., 0., 0., 0., 3., 4., 2., 0., 1., 0.],\n",
       "        [0., 0., 1., 1., 2., 2., 2., 0., 2., 0.],\n",
       "        [0., 0., 0., 0., 2., 1., 1., 5., 1., 0.],\n",
       "        [0., 0., 0., 0., 4., 0., 0., 4., 2., 0.]]),\n",
       " array([0.0858 , 0.08648, 0.08716, 0.08784, 0.08852, 0.0892 , 0.08988,\n",
       "        0.09056, 0.09124, 0.09192, 0.0926 ]),\n",
       " <a list of 32 Lists of Patches objects>)"
      ]
     },
     "execution_count": 22,
     "metadata": {},
     "output_type": "execute_result"
    },
    {
     "data": {
      "image/png": "[encoded data removed]",
      "text/plain": [
       "<Figure size 432x288 with 1 Axes>"
      ]
     },
     "metadata": {
      "needs_background": "light"
     },
     "output_type": "display_data"
    }
   ],
   "source": [
    "plt.hist(s2_val[0,0:10,:,1])"
   ]
  },
  {
   "cell_type": "code",
   "execution_count": null,
   "metadata": {},
   "outputs": [],
   "source": [
    "plt.hist"
   ]
  }
 ],
 "metadata": {
  "kernelspec": {
   "display_name": "Python 3",
   "language": "python",
   "name": "python3"
  },
  "language_info": {
   "codemirror_mode": {
    "name": "ipython",
    "version": 3
   },
   "file_extension": ".py",
   "mimetype": "text/x-python",
   "name": "python",
   "nbconvert_exporter": "python",
   "pygments_lexer": "ipython3",
   "version": "3.8.3"
  }
 },
 "nbformat": 4,
 "nbformat_minor": 4
}

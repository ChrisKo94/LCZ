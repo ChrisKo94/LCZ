{
 "cells": [
  {
   "cell_type": "markdown",
   "metadata": {},
   "source": [
    "# Random Forest Classification @ LCZ42"
   ]
  },
  {
   "cell_type": "code",
   "execution_count": 1,
   "metadata": {},
   "outputs": [],
   "source": [
    "# Import required packages\n",
    "\n",
    "import h5py\n",
    "import numpy as np\n",
    "import glob\n",
    "# import sen1_cnntrain_uil as sen1cnn\n",
    "import scipy.io\n",
    "# from osgeo import gdal\n",
    "\n",
    "from sklearn.metrics import accuracy_score\n",
    "from sklearn.metrics import classification_report\n",
    "from sklearn.metrics import cohen_kappa_score\n",
    "from sklearn.metrics import confusion_matrix\n",
    "\n",
    "from sklearn.ensemble import RandomForestClassifier\n",
    "from sklearn.model_selection import RandomizedSearchCV\n",
    "\n",
    "import pickle\n",
    "import os\n",
    "\n",
    "import seaborn\n"
   ]
  },
  {
   "cell_type": "code",
   "execution_count": 6,
   "metadata": {},
   "outputs": [],
   "source": [
    "def predict_classes(x):\n",
    "#generate class prediction from the input samples\n",
    "    y=x.argmax(axis=1)+1\n",
    "    return y\n",
    "\n",
    "'''\n",
    "RF parameters\n",
    "'''\n",
    "\n",
    "# Number of trees in random forest\n",
    "n_estimators = [100,200]\n",
    "# Number of features to consider at every split\n",
    "max_features = ['auto', 'sqrt']\n",
    "# Maximum number of levels in tree\n",
    "max_depth = [4,8,16,32]\n",
    "max_depth.append(None)\n",
    "# Minimum number of samples required to split a node\n",
    "min_samples_split = [2, 3]\n",
    "# Minimum number of samples required at each leaf node\n",
    "min_samples_leaf = [1, 2]\n",
    "# Method of selecting samples for training each tree\n",
    "bootstrap = [True, False]\n",
    "\n",
    "# Create the random grid\n",
    "random_grid = {'n_estimators': n_estimators,\n",
    "               'max_features': max_features,\n",
    "               'max_depth': max_depth,\n",
    "               'min_samples_split': min_samples_split,\n",
    "               'min_samples_leaf': min_samples_leaf,\n",
    "               'bootstrap': bootstrap}\n",
    "nb_iter = 5\n",
    "nb_cv = 3\n"
   ]
  },
  {
   "cell_type": "code",
   "execution_count": 3,
   "metadata": {},
   "outputs": [],
   "source": [
    "\n",
    "'''\n",
    "PARAMETERS\n",
    "'''\n",
    "# Read in pseudo training data & assign features & labels\n",
    "data_train = h5py.File('D:/Data/LCZ42/pseudo_training.h5', 'r')\n",
    "x_tra = np.array(data_train['sen2'])\n",
    "y_tra = np.array(data_train['label'])\n",
    "\n",
    "# Read in pseudo testing data & assign features & labels\n",
    "data_test = h5py.File('D:/Data/LCZ42/pseudo_testing.h5', 'r')\n",
    "x_test = np.array(data_test['sen2'])\n",
    "y_test = np.array(data_test['label'])\n",
    "\n",
    "'''\n",
    "# Step 2: feature organization for random forest: max, min, mean, std\n",
    "'''\n",
    "\n",
    "nb,rw,cl,bd = x_tra.shape\n",
    "x_tra = np.reshape(x_tra,[nb,rw*cl,bd])\n",
    "x_tra = np.concatenate([np.mean(x_tra,axis=1),\n",
    "                        np.std(x_tra,axis=1),\n",
    "                        np.min(x_tra,axis=1),\n",
    "                        np.max(x_tra,axis=1)], axis=1)\n",
    "y_tra = predict_classes(y_tra)\n",
    "\n",
    "nb,rw,cl,bd = x_test.shape\n",
    "x_test = np.reshape(x_test,[nb,rw*cl,bd])\n",
    "x_test = np.concatenate([np.mean(x_test,axis=1),\n",
    "                         np.std(x_test,axis=1),\n",
    "                         np.min(x_test,axis=1),\n",
    "                         np.max(x_test,axis=1)], axis=1)\n",
    "y_test = predict_classes(y_test)\n"
   ]
  },
  {
   "cell_type": "code",
   "execution_count": 7,
   "metadata": {},
   "outputs": [
    {
     "name": "stdout",
     "output_type": "stream",
     "text": [
      "Fitting 3 folds for each of 5 candidates, totalling 15 fits\n"
     ]
    },
    {
     "name": "stderr",
     "output_type": "stream",
     "text": [
      "[Parallel(n_jobs=-2)]: Using backend LokyBackend with 7 concurrent workers.\n",
      "[Parallel(n_jobs=-2)]: Done  10 out of  15 | elapsed:   31.8s remaining:   15.8s\n",
      "[Parallel(n_jobs=-2)]: Done  15 out of  15 | elapsed:   39.5s finished\n"
     ]
    },
    {
     "data": {
      "text/plain": [
       "RandomizedSearchCV(cv=3, estimator=RandomForestClassifier(), n_iter=5,\n",
       "                   n_jobs=-2,\n",
       "                   param_distributions={'bootstrap': [True, False],\n",
       "                                        'max_depth': [4, 8, 16, 32, None],\n",
       "                                        'max_features': ['auto', 'sqrt'],\n",
       "                                        'min_samples_leaf': [1, 2],\n",
       "                                        'min_samples_split': [2, 3],\n",
       "                                        'n_estimators': [100, 200]},\n",
       "                   random_state=42, verbose=2)"
      ]
     },
     "execution_count": 7,
     "metadata": {},
     "output_type": "execute_result"
    }
   ],
   "source": [
    "'''\n",
    "# Step 3: classification using random forest, hyperparameter random search\n",
    "'''\n",
    "# training\n",
    "rf = RandomForestClassifier()\n",
    "rf_rand_search = RandomizedSearchCV(estimator = rf, param_distributions = random_grid, n_iter = nb_iter, \n",
    "                                    cv = nb_cv, verbose=2, random_state=42, n_jobs=-2)\n",
    "rf_rand_search.fit(x_tra, y_tra)\n"
   ]
  },
  {
   "cell_type": "code",
   "execution_count": 9,
   "metadata": {},
   "outputs": [
    {
     "data": {
      "text/plain": [
       "0.9230928689883914"
      ]
     },
     "execution_count": 9,
     "metadata": {},
     "output_type": "execute_result"
    }
   ],
   "source": [
    "rf_rand_search.best_estimator_.score(x_test, y_test)"
   ]
  },
  {
   "cell_type": "code",
   "execution_count": null,
   "metadata": {},
   "outputs": [],
   "source": [
    "# save trained model\n",
    "# pickle.dump(rf_rand_search, open(modelPath, 'wb'))\n",
    "\n",
    "# load the model from disk\n",
    "# loaded_model = pickle.load(open(filename, 'rb'))\n",
    "# result = loaded_model.score(X_test, Y_test)\n",
    "# print(result)"
   ]
  },
  {
   "cell_type": "code",
   "execution_count": 14,
   "metadata": {},
   "outputs": [
    {
     "data": {
      "text/plain": [
       "<matplotlib.axes._subplots.AxesSubplot at 0x1466d67dac0>"
      ]
     },
     "execution_count": 14,
     "metadata": {},
     "output_type": "execute_result"
    },
    {
     "data": {
      "image/png": "[encoded data removed]",
      "text/plain": [
       "<Figure size 432x288 with 2 Axes>"
      ]
     },
     "metadata": {
      "needs_background": "light"
     },
     "output_type": "display_data"
    }
   ],
   "source": [
    "'''\n",
    "# Step 4: Prediction with random forest\n",
    "'''\n",
    "y_pre = rf_rand_search.best_estimator_.predict(x_test)\n",
    "\n",
    "C = confusion_matrix(y_test, y_pre)\n",
    "\n",
    "seaborn.heatmap(C)"
   ]
  },
  {
   "cell_type": "code",
   "execution_count": null,
   "metadata": {},
   "outputs": [],
   "source": []
  }
 ],
 "metadata": {
  "kernelspec": {
   "display_name": "Python 3",
   "language": "python",
   "name": "python3"
  },
  "language_info": {
   "codemirror_mode": {
    "name": "ipython",
    "version": 3
   },
   "file_extension": ".py",
   "mimetype": "text/x-python",
   "name": "python",
   "nbconvert_exporter": "python",
   "pygments_lexer": "ipython3",
   "version": "3.8.3"
  }
 },
 "nbformat": 4,
 "nbformat_minor": 4
}
